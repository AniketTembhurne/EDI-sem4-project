{
 "cells": [
  {
   "cell_type": "code",
   "execution_count": 25,
   "metadata": {},
   "outputs": [],
   "source": [
    "import re\n",
    "import string\n",
    "from nltk import PorterStemmer\n",
    "from nltk.corpus import stopwords\n",
    "import mysql.connector\n",
    "from fileinput import filename\n",
    "import pickle\n",
    "import pandas as pd\n",
    "from keras_preprocessing.sequence import pad_sequences\n",
    "filename='final_lr_model.sav'\n",
    "stop_words=stopwords.words('english')\n",
    "punctuation_list=list(string.punctuation)"
   ]
  },
  {
   "cell_type": "code",
   "execution_count": 26,
   "metadata": {},
   "outputs": [],
   "source": [
    "loaded_module=pickle.load(open(filename,'rb'))\n",
    "with open('tokenizer.pickle','rb') as token:\n",
    "    tokenizer=pickle.load(token)"
   ]
  },
  {
   "cell_type": "code",
   "execution_count": 27,
   "metadata": {},
   "outputs": [],
   "source": [
    "# cnx=mysql.connector.connect(host='localhost',user='root',password='',)"
   ]
  },
  {
   "cell_type": "code",
   "execution_count": 28,
   "metadata": {},
   "outputs": [],
   "source": [
    "def preprocess(text):\n",
    "  text=str(text).lower()\n",
    "  text=re.sub(r'https?:\\/\\/\\S+', '', text)\n",
    "  text=re.sub(r'{link}', '', text)\n",
    "  text=re.sub(r'&[a-z]+;', '', text)\n",
    "  text=re.sub(r\"[^a-z\\s\\(\\-:\\)\\\\\\/\\];='#]\", '', text)\n",
    "  text=re.sub(r'@mention', '', text)\n",
    "  text=re.sub(r'#','',text)\n",
    "  words=[w for w in text.split() if w not in stop_words]\n",
    "  words=[PorterStemmer().stem(w) for w in words]\n",
    "  words=[w for w in words if w not in punctuation_list]\n",
    "  return words\n",
    "  \n"
   ]
  },
  {
   "cell_type": "code",
   "execution_count": 29,
   "metadata": {},
   "outputs": [],
   "source": [
    "def tokenize_pad_sequence_predict(text):\n",
    "    max_len=5000\n",
    "    xt=tokenizer.texts_to_sequences(text)\n",
    "    xt=pad_sequences(xt,padding='post',maxlen=max_len)\n",
    "    print(xt)\n",
    "    result=loaded_module.predict(xt)\n",
    "    return result"
   ]
  },
  {
   "cell_type": "code",
   "execution_count": 31,
   "metadata": {},
   "outputs": [
    {
     "name": "stdout",
     "output_type": "stream",
     "text": [
      "['bad']\n",
      "[[53  0  0 ...  0  0  0]]\n",
      "[4]\n"
     ]
    }
   ],
   "source": [
    "text=preprocess(input('Enter Sentance to predict its sentiment: '))\n",
    "print(text)\n",
    "result=tokenize_pad_sequence_predict(text)\n",
    "print(result)"
   ]
  },
  {
   "cell_type": "code",
   "execution_count": null,
   "metadata": {},
   "outputs": [],
   "source": []
  }
 ],
 "metadata": {
  "interpreter": {
   "hash": "8da01e5a71448ea74f54d88afa8911010d1d12e23bc7e103d40d5def4a09152c"
  },
  "kernelspec": {
   "display_name": "Python 3.9.12 64-bit",
   "language": "python",
   "name": "python3"
  },
  "language_info": {
   "codemirror_mode": {
    "name": "ipython",
    "version": 3
   },
   "file_extension": ".py",
   "mimetype": "text/x-python",
   "name": "python",
   "nbconvert_exporter": "python",
   "pygments_lexer": "ipython3",
   "version": "3.9.12"
  },
  "orig_nbformat": 4
 },
 "nbformat": 4,
 "nbformat_minor": 2
}
