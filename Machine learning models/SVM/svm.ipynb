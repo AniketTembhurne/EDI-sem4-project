{
 "cells": [
  {
   "cell_type": "markdown",
   "metadata": {
    "id": "KR7cTAnPfsL_"
   },
   "source": [
    "# **`SUPPORT VECTOR MACHINE`**"
   ]
  },
  {
   "cell_type": "markdown",
   "metadata": {
    "id": "hY5VRhWggOA6"
   },
   "source": [
    "### `IMPORTING LIBRARIES`"
   ]
  },
  {
   "cell_type": "code",
   "execution_count": 1,
   "metadata": {
    "executionInfo": {
     "elapsed": 351,
     "status": "ok",
     "timestamp": 1650292974736,
     "user": {
      "displayName": "Ganesh Shinde",
      "userId": "04780742815385189197"
     },
     "user_tz": -330
    },
    "id": "2cl23mfteQ45"
   },
   "outputs": [],
   "source": [
    "import numpy as np\n",
    "import pandas as pd\n",
    "import matplotlib.pyplot as plt\n",
    "import re\n",
    "import nltk\n",
    "import pickle\n",
    "import string\n",
    "from nltk.corpus import stopwords\n",
    "from nltk.stem import SnowballStemmer\n",
    "from nltk import PorterStemmer\n",
    "from sklearn.feature_extraction.text import CountVectorizer\n",
    "from sklearn.metrics import confusion_matrix, classification_report\n",
    "from keras_preprocessing.sequence import pad_sequences\n",
    "from keras_preprocessing.text import Tokenizer\n",
    "import seaborn as sns"
   ]
  },
  {
   "cell_type": "code",
   "execution_count": 2,
   "metadata": {
    "colab": {
     "base_uri": "https://localhost:8080/"
    },
    "executionInfo": {
     "elapsed": 14,
     "status": "ok",
     "timestamp": 1650292975598,
     "user": {
      "displayName": "Ganesh Shinde",
      "userId": "04780742815385189197"
     },
     "user_tz": -330
    },
    "id": "b85Mc_xkhtYB",
    "outputId": "ec12f33d-149f-4225-b1fd-832c98fc2335"
   },
   "outputs": [
    {
     "name": "stderr",
     "output_type": "stream",
     "text": [
      "[nltk_data] Downloading package stopwords to\n",
      "[nltk_data]     C:\\Users\\ASUS\\AppData\\Roaming\\nltk_data...\n",
      "[nltk_data]   Package stopwords is already up-to-date!\n"
     ]
    },
    {
     "data": {
      "text/plain": [
       "True"
      ]
     },
     "execution_count": 2,
     "metadata": {},
     "output_type": "execute_result"
    }
   ],
   "source": [
    "nltk.download('stopwords')"
   ]
  },
  {
   "cell_type": "markdown",
   "metadata": {
    "id": "_eHwCImDiSZD"
   },
   "source": [
    "### `VISUALIZING THE DATASET`"
   ]
  },
  {
   "cell_type": "code",
   "execution_count": 3,
   "metadata": {
    "executionInfo": {
     "elapsed": 12,
     "status": "ok",
     "timestamp": 1650292975598,
     "user": {
      "displayName": "Ganesh Shinde",
      "userId": "04780742815385189197"
     },
     "user_tz": -330
    },
    "id": "NqU9FVv0igp9"
   },
   "outputs": [],
   "source": [
    "dataset=pd.read_csv('1.6m.csv',encoding='ISO-8859-1',names=[\"label\", \"ids\", \"date\", \"flag\", \"user\", \"tweet\"])"
   ]
  },
  {
   "cell_type": "code",
   "execution_count": 4,
   "metadata": {
    "colab": {
     "base_uri": "https://localhost:8080/",
     "height": 206
    },
    "executionInfo": {
     "elapsed": 13,
     "status": "ok",
     "timestamp": 1650292975599,
     "user": {
      "displayName": "Ganesh Shinde",
      "userId": "04780742815385189197"
     },
     "user_tz": -330
    },
    "id": "1wrqQXpCivUu",
    "outputId": "b1f5abff-de7a-4466-8ad1-aff2e2e35f9e"
   },
   "outputs": [
    {
     "data": {
      "text/html": [
       "<div>\n",
       "<style scoped>\n",
       "    .dataframe tbody tr th:only-of-type {\n",
       "        vertical-align: middle;\n",
       "    }\n",
       "\n",
       "    .dataframe tbody tr th {\n",
       "        vertical-align: top;\n",
       "    }\n",
       "\n",
       "    .dataframe thead th {\n",
       "        text-align: right;\n",
       "    }\n",
       "</style>\n",
       "<table border=\"1\" class=\"dataframe\">\n",
       "  <thead>\n",
       "    <tr style=\"text-align: right;\">\n",
       "      <th></th>\n",
       "      <th>label</th>\n",
       "      <th>ids</th>\n",
       "      <th>date</th>\n",
       "      <th>flag</th>\n",
       "      <th>user</th>\n",
       "      <th>tweet</th>\n",
       "    </tr>\n",
       "  </thead>\n",
       "  <tbody>\n",
       "    <tr>\n",
       "      <th>0</th>\n",
       "      <td>0</td>\n",
       "      <td>1467810369</td>\n",
       "      <td>Mon Apr 06 22:19:45 PDT 2009</td>\n",
       "      <td>NO_QUERY</td>\n",
       "      <td>_TheSpecialOne_</td>\n",
       "      <td>@switchfoot http://twitpic.com/2y1zl - Awww, t...</td>\n",
       "    </tr>\n",
       "    <tr>\n",
       "      <th>1</th>\n",
       "      <td>0</td>\n",
       "      <td>1467810672</td>\n",
       "      <td>Mon Apr 06 22:19:49 PDT 2009</td>\n",
       "      <td>NO_QUERY</td>\n",
       "      <td>scotthamilton</td>\n",
       "      <td>is upset that he can't update his Facebook by ...</td>\n",
       "    </tr>\n",
       "    <tr>\n",
       "      <th>2</th>\n",
       "      <td>0</td>\n",
       "      <td>1467810917</td>\n",
       "      <td>Mon Apr 06 22:19:53 PDT 2009</td>\n",
       "      <td>NO_QUERY</td>\n",
       "      <td>mattycus</td>\n",
       "      <td>@Kenichan I dived many times for the ball. Man...</td>\n",
       "    </tr>\n",
       "    <tr>\n",
       "      <th>3</th>\n",
       "      <td>0</td>\n",
       "      <td>1467811184</td>\n",
       "      <td>Mon Apr 06 22:19:57 PDT 2009</td>\n",
       "      <td>NO_QUERY</td>\n",
       "      <td>ElleCTF</td>\n",
       "      <td>my whole body feels itchy and like its on fire</td>\n",
       "    </tr>\n",
       "    <tr>\n",
       "      <th>4</th>\n",
       "      <td>0</td>\n",
       "      <td>1467811193</td>\n",
       "      <td>Mon Apr 06 22:19:57 PDT 2009</td>\n",
       "      <td>NO_QUERY</td>\n",
       "      <td>Karoli</td>\n",
       "      <td>@nationwideclass no, it's not behaving at all....</td>\n",
       "    </tr>\n",
       "  </tbody>\n",
       "</table>\n",
       "</div>"
      ],
      "text/plain": [
       "   label         ids                          date      flag             user  \\\n",
       "0      0  1467810369  Mon Apr 06 22:19:45 PDT 2009  NO_QUERY  _TheSpecialOne_   \n",
       "1      0  1467810672  Mon Apr 06 22:19:49 PDT 2009  NO_QUERY    scotthamilton   \n",
       "2      0  1467810917  Mon Apr 06 22:19:53 PDT 2009  NO_QUERY         mattycus   \n",
       "3      0  1467811184  Mon Apr 06 22:19:57 PDT 2009  NO_QUERY          ElleCTF   \n",
       "4      0  1467811193  Mon Apr 06 22:19:57 PDT 2009  NO_QUERY           Karoli   \n",
       "\n",
       "                                               tweet  \n",
       "0  @switchfoot http://twitpic.com/2y1zl - Awww, t...  \n",
       "1  is upset that he can't update his Facebook by ...  \n",
       "2  @Kenichan I dived many times for the ball. Man...  \n",
       "3    my whole body feels itchy and like its on fire   \n",
       "4  @nationwideclass no, it's not behaving at all....  "
      ]
     },
     "execution_count": 4,
     "metadata": {},
     "output_type": "execute_result"
    }
   ],
   "source": [
    "dataset.head()"
   ]
  },
  {
   "cell_type": "code",
   "execution_count": 5,
   "metadata": {},
   "outputs": [
    {
     "data": {
      "text/html": [
       "<div>\n",
       "<style scoped>\n",
       "    .dataframe tbody tr th:only-of-type {\n",
       "        vertical-align: middle;\n",
       "    }\n",
       "\n",
       "    .dataframe tbody tr th {\n",
       "        vertical-align: top;\n",
       "    }\n",
       "\n",
       "    .dataframe thead th {\n",
       "        text-align: right;\n",
       "    }\n",
       "</style>\n",
       "<table border=\"1\" class=\"dataframe\">\n",
       "  <thead>\n",
       "    <tr style=\"text-align: right;\">\n",
       "      <th></th>\n",
       "      <th>label</th>\n",
       "      <th>ids</th>\n",
       "      <th>date</th>\n",
       "      <th>flag</th>\n",
       "      <th>user</th>\n",
       "      <th>tweet</th>\n",
       "    </tr>\n",
       "  </thead>\n",
       "  <tbody>\n",
       "    <tr>\n",
       "      <th>1599995</th>\n",
       "      <td>4</td>\n",
       "      <td>2193601966</td>\n",
       "      <td>Tue Jun 16 08:40:49 PDT 2009</td>\n",
       "      <td>NO_QUERY</td>\n",
       "      <td>AmandaMarie1028</td>\n",
       "      <td>Just woke up. Having no school is the best fee...</td>\n",
       "    </tr>\n",
       "    <tr>\n",
       "      <th>1599996</th>\n",
       "      <td>4</td>\n",
       "      <td>2193601969</td>\n",
       "      <td>Tue Jun 16 08:40:49 PDT 2009</td>\n",
       "      <td>NO_QUERY</td>\n",
       "      <td>TheWDBoards</td>\n",
       "      <td>TheWDB.com - Very cool to hear old Walt interv...</td>\n",
       "    </tr>\n",
       "    <tr>\n",
       "      <th>1599997</th>\n",
       "      <td>4</td>\n",
       "      <td>2193601991</td>\n",
       "      <td>Tue Jun 16 08:40:49 PDT 2009</td>\n",
       "      <td>NO_QUERY</td>\n",
       "      <td>bpbabe</td>\n",
       "      <td>Are you ready for your MoJo Makeover? Ask me f...</td>\n",
       "    </tr>\n",
       "    <tr>\n",
       "      <th>1599998</th>\n",
       "      <td>4</td>\n",
       "      <td>2193602064</td>\n",
       "      <td>Tue Jun 16 08:40:49 PDT 2009</td>\n",
       "      <td>NO_QUERY</td>\n",
       "      <td>tinydiamondz</td>\n",
       "      <td>Happy 38th Birthday to my boo of alll time!!! ...</td>\n",
       "    </tr>\n",
       "    <tr>\n",
       "      <th>1599999</th>\n",
       "      <td>4</td>\n",
       "      <td>2193602129</td>\n",
       "      <td>Tue Jun 16 08:40:50 PDT 2009</td>\n",
       "      <td>NO_QUERY</td>\n",
       "      <td>RyanTrevMorris</td>\n",
       "      <td>happy #charitytuesday @theNSPCC @SparksCharity...</td>\n",
       "    </tr>\n",
       "  </tbody>\n",
       "</table>\n",
       "</div>"
      ],
      "text/plain": [
       "         label         ids                          date      flag  \\\n",
       "1599995      4  2193601966  Tue Jun 16 08:40:49 PDT 2009  NO_QUERY   \n",
       "1599996      4  2193601969  Tue Jun 16 08:40:49 PDT 2009  NO_QUERY   \n",
       "1599997      4  2193601991  Tue Jun 16 08:40:49 PDT 2009  NO_QUERY   \n",
       "1599998      4  2193602064  Tue Jun 16 08:40:49 PDT 2009  NO_QUERY   \n",
       "1599999      4  2193602129  Tue Jun 16 08:40:50 PDT 2009  NO_QUERY   \n",
       "\n",
       "                    user                                              tweet  \n",
       "1599995  AmandaMarie1028  Just woke up. Having no school is the best fee...  \n",
       "1599996      TheWDBoards  TheWDB.com - Very cool to hear old Walt interv...  \n",
       "1599997           bpbabe  Are you ready for your MoJo Makeover? Ask me f...  \n",
       "1599998     tinydiamondz  Happy 38th Birthday to my boo of alll time!!! ...  \n",
       "1599999   RyanTrevMorris  happy #charitytuesday @theNSPCC @SparksCharity...  "
      ]
     },
     "execution_count": 5,
     "metadata": {},
     "output_type": "execute_result"
    }
   ],
   "source": [
    "dataset.tail()"
   ]
  },
  {
   "cell_type": "code",
   "execution_count": 6,
   "metadata": {
    "executionInfo": {
     "elapsed": 11,
     "status": "ok",
     "timestamp": 1650292975599,
     "user": {
      "displayName": "Ganesh Shinde",
      "userId": "04780742815385189197"
     },
     "user_tz": -330
    },
    "id": "tKIE6DJ_izx-"
   },
   "outputs": [],
   "source": [
    "dataset=dataset.drop([ \"ids\", \"date\", \"flag\", \"user\"],axis=1)"
   ]
  },
  {
   "cell_type": "code",
   "execution_count": 7,
   "metadata": {
    "colab": {
     "base_uri": "https://localhost:8080/",
     "height": 363
    },
    "executionInfo": {
     "elapsed": 10,
     "status": "ok",
     "timestamp": 1650292975599,
     "user": {
      "displayName": "Ganesh Shinde",
      "userId": "04780742815385189197"
     },
     "user_tz": -330
    },
    "id": "niY2hfVti6ia",
    "outputId": "687e0ab7-10bb-419b-ba01-d2e9932c79b0"
   },
   "outputs": [
    {
     "data": {
      "text/html": [
       "<div>\n",
       "<style scoped>\n",
       "    .dataframe tbody tr th:only-of-type {\n",
       "        vertical-align: middle;\n",
       "    }\n",
       "\n",
       "    .dataframe tbody tr th {\n",
       "        vertical-align: top;\n",
       "    }\n",
       "\n",
       "    .dataframe thead th {\n",
       "        text-align: right;\n",
       "    }\n",
       "</style>\n",
       "<table border=\"1\" class=\"dataframe\">\n",
       "  <thead>\n",
       "    <tr style=\"text-align: right;\">\n",
       "      <th></th>\n",
       "      <th>label</th>\n",
       "      <th>tweet</th>\n",
       "    </tr>\n",
       "  </thead>\n",
       "  <tbody>\n",
       "    <tr>\n",
       "      <th>0</th>\n",
       "      <td>0</td>\n",
       "      <td>@switchfoot http://twitpic.com/2y1zl - Awww, t...</td>\n",
       "    </tr>\n",
       "    <tr>\n",
       "      <th>1</th>\n",
       "      <td>0</td>\n",
       "      <td>is upset that he can't update his Facebook by ...</td>\n",
       "    </tr>\n",
       "    <tr>\n",
       "      <th>2</th>\n",
       "      <td>0</td>\n",
       "      <td>@Kenichan I dived many times for the ball. Man...</td>\n",
       "    </tr>\n",
       "    <tr>\n",
       "      <th>3</th>\n",
       "      <td>0</td>\n",
       "      <td>my whole body feels itchy and like its on fire</td>\n",
       "    </tr>\n",
       "    <tr>\n",
       "      <th>4</th>\n",
       "      <td>0</td>\n",
       "      <td>@nationwideclass no, it's not behaving at all....</td>\n",
       "    </tr>\n",
       "    <tr>\n",
       "      <th>5</th>\n",
       "      <td>0</td>\n",
       "      <td>@Kwesidei not the whole crew</td>\n",
       "    </tr>\n",
       "    <tr>\n",
       "      <th>6</th>\n",
       "      <td>0</td>\n",
       "      <td>Need a hug</td>\n",
       "    </tr>\n",
       "    <tr>\n",
       "      <th>7</th>\n",
       "      <td>0</td>\n",
       "      <td>@LOLTrish hey  long time no see! Yes.. Rains a...</td>\n",
       "    </tr>\n",
       "    <tr>\n",
       "      <th>8</th>\n",
       "      <td>0</td>\n",
       "      <td>@Tatiana_K nope they didn't have it</td>\n",
       "    </tr>\n",
       "    <tr>\n",
       "      <th>9</th>\n",
       "      <td>0</td>\n",
       "      <td>@twittera que me muera ?</td>\n",
       "    </tr>\n",
       "  </tbody>\n",
       "</table>\n",
       "</div>"
      ],
      "text/plain": [
       "   label                                              tweet\n",
       "0      0  @switchfoot http://twitpic.com/2y1zl - Awww, t...\n",
       "1      0  is upset that he can't update his Facebook by ...\n",
       "2      0  @Kenichan I dived many times for the ball. Man...\n",
       "3      0    my whole body feels itchy and like its on fire \n",
       "4      0  @nationwideclass no, it's not behaving at all....\n",
       "5      0                      @Kwesidei not the whole crew \n",
       "6      0                                        Need a hug \n",
       "7      0  @LOLTrish hey  long time no see! Yes.. Rains a...\n",
       "8      0               @Tatiana_K nope they didn't have it \n",
       "9      0                          @twittera que me muera ? "
      ]
     },
     "execution_count": 7,
     "metadata": {},
     "output_type": "execute_result"
    }
   ],
   "source": [
    "dataset.head(10)"
   ]
  },
  {
   "cell_type": "code",
   "execution_count": 8,
   "metadata": {
    "colab": {
     "base_uri": "https://localhost:8080/"
    },
    "executionInfo": {
     "elapsed": 11,
     "status": "ok",
     "timestamp": 1650292975600,
     "user": {
      "displayName": "Ganesh Shinde",
      "userId": "04780742815385189197"
     },
     "user_tz": -330
    },
    "id": "V7tWkXRMjFOm",
    "outputId": "d84c3cbb-5c40-4827-867a-5782ab6554e7"
   },
   "outputs": [
    {
     "name": "stdout",
     "output_type": "stream",
     "text": [
      "<class 'pandas.core.frame.DataFrame'>\n",
      "RangeIndex: 1600000 entries, 0 to 1599999\n",
      "Data columns (total 2 columns):\n",
      " #   Column  Non-Null Count    Dtype \n",
      "---  ------  --------------    ----- \n",
      " 0   label   1600000 non-null  int64 \n",
      " 1   tweet   1600000 non-null  object\n",
      "dtypes: int64(1), object(1)\n",
      "memory usage: 24.4+ MB\n",
      "1600000\n"
     ]
    }
   ],
   "source": [
    "dataset.info()\n",
    "print(len(dataset))"
   ]
  },
  {
   "cell_type": "code",
   "execution_count": 9,
   "metadata": {
    "colab": {
     "base_uri": "https://localhost:8080/"
    },
    "executionInfo": {
     "elapsed": 8,
     "status": "ok",
     "timestamp": 1650292975600,
     "user": {
      "displayName": "Ganesh Shinde",
      "userId": "04780742815385189197"
     },
     "user_tz": -330
    },
    "id": "-ERZ9wlYjR1C",
    "outputId": "22c85d74-e301-4f40-927a-ef3ddc32c595"
   },
   "outputs": [
    {
     "data": {
      "text/plain": [
       "array([0, 4], dtype=int64)"
      ]
     },
     "execution_count": 9,
     "metadata": {},
     "output_type": "execute_result"
    }
   ],
   "source": [
    "dataset['label'].unique()"
   ]
  },
  {
   "cell_type": "markdown",
   "metadata": {
    "id": "yoikxmsgkKRX"
   },
   "source": [
    "### `PREPROCESSING DATA`"
   ]
  },
  {
   "cell_type": "code",
   "execution_count": 10,
   "metadata": {
    "executionInfo": {
     "elapsed": 12,
     "status": "ok",
     "timestamp": 1650292976380,
     "user": {
      "displayName": "Ganesh Shinde",
      "userId": "04780742815385189197"
     },
     "user_tz": -330
    },
    "id": "sMD9xnZHkPIZ"
   },
   "outputs": [],
   "source": [
    "dataset_pos=dataset[dataset['label']==4]\n",
    "dataset_neg=dataset[dataset['label']==0]"
   ]
  },
  {
   "cell_type": "code",
   "execution_count": 11,
   "metadata": {
    "colab": {
     "base_uri": "https://localhost:8080/",
     "height": 206
    },
    "executionInfo": {
     "elapsed": 12,
     "status": "ok",
     "timestamp": 1650292976380,
     "user": {
      "displayName": "Ganesh Shinde",
      "userId": "04780742815385189197"
     },
     "user_tz": -330
    },
    "id": "C-L_Gl-ckwK-",
    "outputId": "50f29120-02d8-4b0b-dc89-8726b3e0375a"
   },
   "outputs": [
    {
     "data": {
      "text/html": [
       "<div>\n",
       "<style scoped>\n",
       "    .dataframe tbody tr th:only-of-type {\n",
       "        vertical-align: middle;\n",
       "    }\n",
       "\n",
       "    .dataframe tbody tr th {\n",
       "        vertical-align: top;\n",
       "    }\n",
       "\n",
       "    .dataframe thead th {\n",
       "        text-align: right;\n",
       "    }\n",
       "</style>\n",
       "<table border=\"1\" class=\"dataframe\">\n",
       "  <thead>\n",
       "    <tr style=\"text-align: right;\">\n",
       "      <th></th>\n",
       "      <th>label</th>\n",
       "      <th>tweet</th>\n",
       "    </tr>\n",
       "  </thead>\n",
       "  <tbody>\n",
       "    <tr>\n",
       "      <th>800000</th>\n",
       "      <td>4</td>\n",
       "      <td>I LOVE @Health4UandPets u guys r the best!!</td>\n",
       "    </tr>\n",
       "    <tr>\n",
       "      <th>800001</th>\n",
       "      <td>4</td>\n",
       "      <td>im meeting up with one of my besties tonight! ...</td>\n",
       "    </tr>\n",
       "    <tr>\n",
       "      <th>800002</th>\n",
       "      <td>4</td>\n",
       "      <td>@DaRealSunisaKim Thanks for the Twitter add, S...</td>\n",
       "    </tr>\n",
       "    <tr>\n",
       "      <th>800003</th>\n",
       "      <td>4</td>\n",
       "      <td>Being sick can be really cheap when it hurts t...</td>\n",
       "    </tr>\n",
       "    <tr>\n",
       "      <th>800004</th>\n",
       "      <td>4</td>\n",
       "      <td>@LovesBrooklyn2 he has that effect on everyone</td>\n",
       "    </tr>\n",
       "  </tbody>\n",
       "</table>\n",
       "</div>"
      ],
      "text/plain": [
       "        label                                              tweet\n",
       "800000      4       I LOVE @Health4UandPets u guys r the best!! \n",
       "800001      4  im meeting up with one of my besties tonight! ...\n",
       "800002      4  @DaRealSunisaKim Thanks for the Twitter add, S...\n",
       "800003      4  Being sick can be really cheap when it hurts t...\n",
       "800004      4    @LovesBrooklyn2 he has that effect on everyone "
      ]
     },
     "execution_count": 11,
     "metadata": {},
     "output_type": "execute_result"
    }
   ],
   "source": [
    "dataset_pos.head()"
   ]
  },
  {
   "cell_type": "code",
   "execution_count": 12,
   "metadata": {
    "colab": {
     "base_uri": "https://localhost:8080/",
     "height": 206
    },
    "executionInfo": {
     "elapsed": 11,
     "status": "ok",
     "timestamp": 1650292976380,
     "user": {
      "displayName": "Ganesh Shinde",
      "userId": "04780742815385189197"
     },
     "user_tz": -330
    },
    "id": "clZYWx-GkzPm",
    "outputId": "faec4d7f-66bb-423e-d55a-fd22b715c780"
   },
   "outputs": [
    {
     "data": {
      "text/html": [
       "<div>\n",
       "<style scoped>\n",
       "    .dataframe tbody tr th:only-of-type {\n",
       "        vertical-align: middle;\n",
       "    }\n",
       "\n",
       "    .dataframe tbody tr th {\n",
       "        vertical-align: top;\n",
       "    }\n",
       "\n",
       "    .dataframe thead th {\n",
       "        text-align: right;\n",
       "    }\n",
       "</style>\n",
       "<table border=\"1\" class=\"dataframe\">\n",
       "  <thead>\n",
       "    <tr style=\"text-align: right;\">\n",
       "      <th></th>\n",
       "      <th>label</th>\n",
       "      <th>tweet</th>\n",
       "    </tr>\n",
       "  </thead>\n",
       "  <tbody>\n",
       "    <tr>\n",
       "      <th>0</th>\n",
       "      <td>0</td>\n",
       "      <td>@switchfoot http://twitpic.com/2y1zl - Awww, t...</td>\n",
       "    </tr>\n",
       "    <tr>\n",
       "      <th>1</th>\n",
       "      <td>0</td>\n",
       "      <td>is upset that he can't update his Facebook by ...</td>\n",
       "    </tr>\n",
       "    <tr>\n",
       "      <th>2</th>\n",
       "      <td>0</td>\n",
       "      <td>@Kenichan I dived many times for the ball. Man...</td>\n",
       "    </tr>\n",
       "    <tr>\n",
       "      <th>3</th>\n",
       "      <td>0</td>\n",
       "      <td>my whole body feels itchy and like its on fire</td>\n",
       "    </tr>\n",
       "    <tr>\n",
       "      <th>4</th>\n",
       "      <td>0</td>\n",
       "      <td>@nationwideclass no, it's not behaving at all....</td>\n",
       "    </tr>\n",
       "  </tbody>\n",
       "</table>\n",
       "</div>"
      ],
      "text/plain": [
       "   label                                              tweet\n",
       "0      0  @switchfoot http://twitpic.com/2y1zl - Awww, t...\n",
       "1      0  is upset that he can't update his Facebook by ...\n",
       "2      0  @Kenichan I dived many times for the ball. Man...\n",
       "3      0    my whole body feels itchy and like its on fire \n",
       "4      0  @nationwideclass no, it's not behaving at all...."
      ]
     },
     "execution_count": 12,
     "metadata": {},
     "output_type": "execute_result"
    }
   ],
   "source": [
    "dataset_neg.head()"
   ]
  },
  {
   "cell_type": "code",
   "execution_count": 13,
   "metadata": {
    "executionInfo": {
     "elapsed": 11,
     "status": "ok",
     "timestamp": 1650292976381,
     "user": {
      "displayName": "Ganesh Shinde",
      "userId": "04780742815385189197"
     },
     "user_tz": -330
    },
    "id": "8M5EWTkDk22j"
   },
   "outputs": [],
   "source": [
    "dataset_pos=dataset_pos[:20000]\n",
    "dataset_neg=dataset_neg[:20000]"
   ]
  },
  {
   "cell_type": "code",
   "execution_count": 14,
   "metadata": {
    "colab": {
     "base_uri": "https://localhost:8080/",
     "height": 206
    },
    "executionInfo": {
     "elapsed": 11,
     "status": "ok",
     "timestamp": 1650292976381,
     "user": {
      "displayName": "Ganesh Shinde",
      "userId": "04780742815385189197"
     },
     "user_tz": -330
    },
    "id": "dWblpseQlHOd",
    "outputId": "0a0e4f73-e478-4209-e933-e4cf6264e399"
   },
   "outputs": [
    {
     "data": {
      "text/html": [
       "<div>\n",
       "<style scoped>\n",
       "    .dataframe tbody tr th:only-of-type {\n",
       "        vertical-align: middle;\n",
       "    }\n",
       "\n",
       "    .dataframe tbody tr th {\n",
       "        vertical-align: top;\n",
       "    }\n",
       "\n",
       "    .dataframe thead th {\n",
       "        text-align: right;\n",
       "    }\n",
       "</style>\n",
       "<table border=\"1\" class=\"dataframe\">\n",
       "  <thead>\n",
       "    <tr style=\"text-align: right;\">\n",
       "      <th></th>\n",
       "      <th>label</th>\n",
       "      <th>tweet</th>\n",
       "    </tr>\n",
       "  </thead>\n",
       "  <tbody>\n",
       "    <tr>\n",
       "      <th>819995</th>\n",
       "      <td>4</td>\n",
       "      <td>We just met some awesome people at T.G.I Fridays</td>\n",
       "    </tr>\n",
       "    <tr>\n",
       "      <th>819996</th>\n",
       "      <td>4</td>\n",
       "      <td>oh my goodness . my feet are the most sensitiv...</td>\n",
       "    </tr>\n",
       "    <tr>\n",
       "      <th>819997</th>\n",
       "      <td>4</td>\n",
       "      <td>@hey_angy hahaha</td>\n",
       "    </tr>\n",
       "    <tr>\n",
       "      <th>819998</th>\n",
       "      <td>4</td>\n",
       "      <td>@Lamartian30 Pfft school is koo. I'm ranked 2n...</td>\n",
       "    </tr>\n",
       "    <tr>\n",
       "      <th>819999</th>\n",
       "      <td>4</td>\n",
       "      <td>stuffed. working out, shower,movie night, thn ...</td>\n",
       "    </tr>\n",
       "  </tbody>\n",
       "</table>\n",
       "</div>"
      ],
      "text/plain": [
       "        label                                              tweet\n",
       "819995      4  We just met some awesome people at T.G.I Fridays \n",
       "819996      4  oh my goodness . my feet are the most sensitiv...\n",
       "819997      4                                  @hey_angy hahaha \n",
       "819998      4  @Lamartian30 Pfft school is koo. I'm ranked 2n...\n",
       "819999      4  stuffed. working out, shower,movie night, thn ..."
      ]
     },
     "execution_count": 14,
     "metadata": {},
     "output_type": "execute_result"
    }
   ],
   "source": [
    "dataset_pos.tail()"
   ]
  },
  {
   "cell_type": "code",
   "execution_count": 15,
   "metadata": {
    "colab": {
     "base_uri": "https://localhost:8080/",
     "height": 206
    },
    "executionInfo": {
     "elapsed": 10,
     "status": "ok",
     "timestamp": 1650292976381,
     "user": {
      "displayName": "Ganesh Shinde",
      "userId": "04780742815385189197"
     },
     "user_tz": -330
    },
    "id": "cKZC9YzslMb3",
    "outputId": "368bb4d4-bb29-4388-c38c-d21b70473511"
   },
   "outputs": [
    {
     "data": {
      "text/html": [
       "<div>\n",
       "<style scoped>\n",
       "    .dataframe tbody tr th:only-of-type {\n",
       "        vertical-align: middle;\n",
       "    }\n",
       "\n",
       "    .dataframe tbody tr th {\n",
       "        vertical-align: top;\n",
       "    }\n",
       "\n",
       "    .dataframe thead th {\n",
       "        text-align: right;\n",
       "    }\n",
       "</style>\n",
       "<table border=\"1\" class=\"dataframe\">\n",
       "  <thead>\n",
       "    <tr style=\"text-align: right;\">\n",
       "      <th></th>\n",
       "      <th>label</th>\n",
       "      <th>tweet</th>\n",
       "    </tr>\n",
       "  </thead>\n",
       "  <tbody>\n",
       "    <tr>\n",
       "      <th>19995</th>\n",
       "      <td>0</td>\n",
       "      <td>Not much time off this weekend, work trip to M...</td>\n",
       "    </tr>\n",
       "    <tr>\n",
       "      <th>19996</th>\n",
       "      <td>0</td>\n",
       "      <td>One more day of holidays</td>\n",
       "    </tr>\n",
       "    <tr>\n",
       "      <th>19997</th>\n",
       "      <td>0</td>\n",
       "      <td>feeling so down right now .. i hate you DAMN H...</td>\n",
       "    </tr>\n",
       "    <tr>\n",
       "      <th>19998</th>\n",
       "      <td>0</td>\n",
       "      <td>geez,i hv to READ the whole book of personalit...</td>\n",
       "    </tr>\n",
       "    <tr>\n",
       "      <th>19999</th>\n",
       "      <td>0</td>\n",
       "      <td>I threw my sign at donnie and he bent over to ...</td>\n",
       "    </tr>\n",
       "  </tbody>\n",
       "</table>\n",
       "</div>"
      ],
      "text/plain": [
       "       label                                              tweet\n",
       "19995      0  Not much time off this weekend, work trip to M...\n",
       "19996      0                          One more day of holidays \n",
       "19997      0  feeling so down right now .. i hate you DAMN H...\n",
       "19998      0  geez,i hv to READ the whole book of personalit...\n",
       "19999      0  I threw my sign at donnie and he bent over to ..."
      ]
     },
     "execution_count": 15,
     "metadata": {},
     "output_type": "execute_result"
    }
   ],
   "source": [
    "dataset_neg.tail()"
   ]
  },
  {
   "cell_type": "code",
   "execution_count": 16,
   "metadata": {
    "executionInfo": {
     "elapsed": 11,
     "status": "ok",
     "timestamp": 1650292976382,
     "user": {
      "displayName": "Ganesh Shinde",
      "userId": "04780742815385189197"
     },
     "user_tz": -330
    },
    "id": "jPU0-NY1lPe5"
   },
   "outputs": [],
   "source": [
    "dataset=pd.concat([dataset_pos,dataset_neg])"
   ]
  },
  {
   "cell_type": "code",
   "execution_count": 17,
   "metadata": {
    "colab": {
     "base_uri": "https://localhost:8080/",
     "height": 206
    },
    "executionInfo": {
     "elapsed": 11,
     "status": "ok",
     "timestamp": 1650292976382,
     "user": {
      "displayName": "Ganesh Shinde",
      "userId": "04780742815385189197"
     },
     "user_tz": -330
    },
    "id": "G_6dA-FclYiF",
    "outputId": "89d8b348-1d1b-4399-c296-904b34e969d0"
   },
   "outputs": [
    {
     "data": {
      "text/html": [
       "<div>\n",
       "<style scoped>\n",
       "    .dataframe tbody tr th:only-of-type {\n",
       "        vertical-align: middle;\n",
       "    }\n",
       "\n",
       "    .dataframe tbody tr th {\n",
       "        vertical-align: top;\n",
       "    }\n",
       "\n",
       "    .dataframe thead th {\n",
       "        text-align: right;\n",
       "    }\n",
       "</style>\n",
       "<table border=\"1\" class=\"dataframe\">\n",
       "  <thead>\n",
       "    <tr style=\"text-align: right;\">\n",
       "      <th></th>\n",
       "      <th>label</th>\n",
       "      <th>tweet</th>\n",
       "    </tr>\n",
       "  </thead>\n",
       "  <tbody>\n",
       "    <tr>\n",
       "      <th>800000</th>\n",
       "      <td>4</td>\n",
       "      <td>I LOVE @Health4UandPets u guys r the best!!</td>\n",
       "    </tr>\n",
       "    <tr>\n",
       "      <th>800001</th>\n",
       "      <td>4</td>\n",
       "      <td>im meeting up with one of my besties tonight! ...</td>\n",
       "    </tr>\n",
       "    <tr>\n",
       "      <th>800002</th>\n",
       "      <td>4</td>\n",
       "      <td>@DaRealSunisaKim Thanks for the Twitter add, S...</td>\n",
       "    </tr>\n",
       "    <tr>\n",
       "      <th>800003</th>\n",
       "      <td>4</td>\n",
       "      <td>Being sick can be really cheap when it hurts t...</td>\n",
       "    </tr>\n",
       "    <tr>\n",
       "      <th>800004</th>\n",
       "      <td>4</td>\n",
       "      <td>@LovesBrooklyn2 he has that effect on everyone</td>\n",
       "    </tr>\n",
       "  </tbody>\n",
       "</table>\n",
       "</div>"
      ],
      "text/plain": [
       "        label                                              tweet\n",
       "800000      4       I LOVE @Health4UandPets u guys r the best!! \n",
       "800001      4  im meeting up with one of my besties tonight! ...\n",
       "800002      4  @DaRealSunisaKim Thanks for the Twitter add, S...\n",
       "800003      4  Being sick can be really cheap when it hurts t...\n",
       "800004      4    @LovesBrooklyn2 he has that effect on everyone "
      ]
     },
     "execution_count": 17,
     "metadata": {},
     "output_type": "execute_result"
    }
   ],
   "source": [
    "dataset.head()"
   ]
  },
  {
   "cell_type": "code",
   "execution_count": 18,
   "metadata": {
    "executionInfo": {
     "elapsed": 10,
     "status": "ok",
     "timestamp": 1650292976382,
     "user": {
      "displayName": "Ganesh Shinde",
      "userId": "04780742815385189197"
     },
     "user_tz": -330
    },
    "id": "ZLGJIiHRtsOv"
   },
   "outputs": [],
   "source": [
    "stop_words=stopwords.words('english')\n",
    "punctuation_list=list(string.punctuation)"
   ]
  },
  {
   "cell_type": "code",
   "execution_count": 19,
   "metadata": {
    "executionInfo": {
     "elapsed": 10,
     "status": "ok",
     "timestamp": 1650292976382,
     "user": {
      "displayName": "Ganesh Shinde",
      "userId": "04780742815385189197"
     },
     "user_tz": -330
    },
    "id": "m_xruEyNrB4H"
   },
   "outputs": [],
   "source": [
    "def preprocess(text):\n",
    "  text=str(text).lower()\n",
    "  text=re.sub(r'https?:\\/\\/\\S+', '', text)\n",
    "  text=re.sub(r'{link}', '', text)\n",
    "  text=re.sub(r'&[a-z]+;', '', text)\n",
    "  text=re.sub(r\"[^a-z\\s\\(\\-:\\)\\\\\\/\\];='#]\", '', text)\n",
    "  text=re.sub(r'@mention', '', text)\n",
    "  text=re.sub(r'#','',text)\n",
    "  words=[w for w in text.split() if w not in stop_words]\n",
    "  words=[PorterStemmer().stem(w) for w in words]\n",
    "  words=[w for w in words if w not in punctuation_list]\n",
    "  return words\n",
    "  \n"
   ]
  },
  {
   "cell_type": "code",
   "execution_count": 20,
   "metadata": {
    "executionInfo": {
     "elapsed": 7402,
     "status": "ok",
     "timestamp": 1650292983774,
     "user": {
      "displayName": "Ganesh Shinde",
      "userId": "04780742815385189197"
     },
     "user_tz": -330
    },
    "id": "5SE1AN0-s_Uf"
   },
   "outputs": [],
   "source": [
    "dataset.tweet=dataset.tweet.apply(lambda x: preprocess(x))"
   ]
  },
  {
   "cell_type": "code",
   "execution_count": 21,
   "metadata": {
    "colab": {
     "base_uri": "https://localhost:8080/",
     "height": 677
    },
    "executionInfo": {
     "elapsed": 17,
     "status": "ok",
     "timestamp": 1650292983777,
     "user": {
      "displayName": "Ganesh Shinde",
      "userId": "04780742815385189197"
     },
     "user_tz": -330
    },
    "id": "NrJnMGcItJIp",
    "outputId": "a498b631-33f6-42ce-a073-fc5d66cb47e1"
   },
   "outputs": [
    {
     "data": {
      "text/html": [
       "<div>\n",
       "<style scoped>\n",
       "    .dataframe tbody tr th:only-of-type {\n",
       "        vertical-align: middle;\n",
       "    }\n",
       "\n",
       "    .dataframe tbody tr th {\n",
       "        vertical-align: top;\n",
       "    }\n",
       "\n",
       "    .dataframe thead th {\n",
       "        text-align: right;\n",
       "    }\n",
       "</style>\n",
       "<table border=\"1\" class=\"dataframe\">\n",
       "  <thead>\n",
       "    <tr style=\"text-align: right;\">\n",
       "      <th></th>\n",
       "      <th>label</th>\n",
       "      <th>tweet</th>\n",
       "    </tr>\n",
       "  </thead>\n",
       "  <tbody>\n",
       "    <tr>\n",
       "      <th>800000</th>\n",
       "      <td>4</td>\n",
       "      <td>[love, healthuandpet, u, guy, r, best]</td>\n",
       "    </tr>\n",
       "    <tr>\n",
       "      <th>800001</th>\n",
       "      <td>4</td>\n",
       "      <td>[im, meet, one, besti, tonight, cant, wait, gi...</td>\n",
       "    </tr>\n",
       "    <tr>\n",
       "      <th>800002</th>\n",
       "      <td>4</td>\n",
       "      <td>[darealsunisakim, thank, twitter, add, sunisa,...</td>\n",
       "    </tr>\n",
       "    <tr>\n",
       "      <th>800003</th>\n",
       "      <td>4</td>\n",
       "      <td>[sick, realli, cheap, hurt, much, eat, real, f...</td>\n",
       "    </tr>\n",
       "    <tr>\n",
       "      <th>800004</th>\n",
       "      <td>4</td>\n",
       "      <td>[lovesbrooklyn, effect, everyon]</td>\n",
       "    </tr>\n",
       "    <tr>\n",
       "      <th>800005</th>\n",
       "      <td>4</td>\n",
       "      <td>[productoffear, tell, burst, laugh, realli, lo...</td>\n",
       "    </tr>\n",
       "    <tr>\n",
       "      <th>800006</th>\n",
       "      <td>4</td>\n",
       "      <td>[rkeithhil, than, respons, ihad, alreadi, find...</td>\n",
       "    </tr>\n",
       "    <tr>\n",
       "      <th>800007</th>\n",
       "      <td>4</td>\n",
       "      <td>[keepinupwkri, jealou, hope, great, time, vega...</td>\n",
       "    </tr>\n",
       "    <tr>\n",
       "      <th>800008</th>\n",
       "      <td>4</td>\n",
       "      <td>[tommcfli, ah, congrat, mr, fletcher, final, j...</td>\n",
       "    </tr>\n",
       "    <tr>\n",
       "      <th>800009</th>\n",
       "      <td>4</td>\n",
       "      <td>[evoip, respond, stupid, cat, help, type, forg...</td>\n",
       "    </tr>\n",
       "    <tr>\n",
       "      <th>800010</th>\n",
       "      <td>4</td>\n",
       "      <td>[crazi, day, school, hour, straiiight, watch, ...</td>\n",
       "    </tr>\n",
       "    <tr>\n",
       "      <th>800011</th>\n",
       "      <td>4</td>\n",
       "      <td>[naughtyhaughti, forget, two, half, men, love,...</td>\n",
       "    </tr>\n",
       "    <tr>\n",
       "      <th>800012</th>\n",
       "      <td>4</td>\n",
       "      <td>[nileyjileyluv, haha, worri, get, hang]</td>\n",
       "    </tr>\n",
       "    <tr>\n",
       "      <th>800013</th>\n",
       "      <td>4</td>\n",
       "      <td>[soundwav, least, one, feel, lost, may, caus, ...</td>\n",
       "    </tr>\n",
       "    <tr>\n",
       "      <th>800014</th>\n",
       "      <td>4</td>\n",
       "      <td>[lutheranlucciol, make, sure, dm, post, link, ...</td>\n",
       "    </tr>\n",
       "    <tr>\n",
       "      <th>800015</th>\n",
       "      <td>4</td>\n",
       "      <td>[ad, tweeti, new, iphon]</td>\n",
       "    </tr>\n",
       "    <tr>\n",
       "      <th>800016</th>\n",
       "      <td>4</td>\n",
       "      <td>[michellardi, realli, know, think, globe, yeah...</td>\n",
       "    </tr>\n",
       "    <tr>\n",
       "      <th>800017</th>\n",
       "      <td>4</td>\n",
       "      <td>[nicolerichie:, pictur, sweet]</td>\n",
       "    </tr>\n",
       "    <tr>\n",
       "      <th>800018</th>\n",
       "      <td>4</td>\n",
       "      <td>[catch, email, rss, random, bacn, i'm, cut, ea...</td>\n",
       "    </tr>\n",
       "    <tr>\n",
       "      <th>800019</th>\n",
       "      <td>4</td>\n",
       "      <td>[danc, around, room, pj, jam, ipod, get, dizzi...</td>\n",
       "    </tr>\n",
       "  </tbody>\n",
       "</table>\n",
       "</div>"
      ],
      "text/plain": [
       "        label                                              tweet\n",
       "800000      4             [love, healthuandpet, u, guy, r, best]\n",
       "800001      4  [im, meet, one, besti, tonight, cant, wait, gi...\n",
       "800002      4  [darealsunisakim, thank, twitter, add, sunisa,...\n",
       "800003      4  [sick, realli, cheap, hurt, much, eat, real, f...\n",
       "800004      4                   [lovesbrooklyn, effect, everyon]\n",
       "800005      4  [productoffear, tell, burst, laugh, realli, lo...\n",
       "800006      4  [rkeithhil, than, respons, ihad, alreadi, find...\n",
       "800007      4  [keepinupwkri, jealou, hope, great, time, vega...\n",
       "800008      4  [tommcfli, ah, congrat, mr, fletcher, final, j...\n",
       "800009      4  [evoip, respond, stupid, cat, help, type, forg...\n",
       "800010      4  [crazi, day, school, hour, straiiight, watch, ...\n",
       "800011      4  [naughtyhaughti, forget, two, half, men, love,...\n",
       "800012      4            [nileyjileyluv, haha, worri, get, hang]\n",
       "800013      4  [soundwav, least, one, feel, lost, may, caus, ...\n",
       "800014      4  [lutheranlucciol, make, sure, dm, post, link, ...\n",
       "800015      4                           [ad, tweeti, new, iphon]\n",
       "800016      4  [michellardi, realli, know, think, globe, yeah...\n",
       "800017      4                     [nicolerichie:, pictur, sweet]\n",
       "800018      4  [catch, email, rss, random, bacn, i'm, cut, ea...\n",
       "800019      4  [danc, around, room, pj, jam, ipod, get, dizzi..."
      ]
     },
     "execution_count": 21,
     "metadata": {},
     "output_type": "execute_result"
    }
   ],
   "source": [
    "dataset.head(20)"
   ]
  },
  {
   "cell_type": "code",
   "execution_count": 22,
   "metadata": {
    "colab": {
     "base_uri": "https://localhost:8080/",
     "height": 677
    },
    "executionInfo": {
     "elapsed": 15,
     "status": "ok",
     "timestamp": 1650292983777,
     "user": {
      "displayName": "Ganesh Shinde",
      "userId": "04780742815385189197"
     },
     "user_tz": -330
    },
    "id": "_dLUXeQW4elI",
    "outputId": "7b8e04f0-1327-4606-f05e-62b8b58d7985"
   },
   "outputs": [
    {
     "data": {
      "text/html": [
       "<div>\n",
       "<style scoped>\n",
       "    .dataframe tbody tr th:only-of-type {\n",
       "        vertical-align: middle;\n",
       "    }\n",
       "\n",
       "    .dataframe tbody tr th {\n",
       "        vertical-align: top;\n",
       "    }\n",
       "\n",
       "    .dataframe thead th {\n",
       "        text-align: right;\n",
       "    }\n",
       "</style>\n",
       "<table border=\"1\" class=\"dataframe\">\n",
       "  <thead>\n",
       "    <tr style=\"text-align: right;\">\n",
       "      <th></th>\n",
       "      <th>label</th>\n",
       "      <th>tweet</th>\n",
       "    </tr>\n",
       "  </thead>\n",
       "  <tbody>\n",
       "    <tr>\n",
       "      <th>19980</th>\n",
       "      <td>0</td>\n",
       "      <td>[ugh, someon, call, woke]</td>\n",
       "    </tr>\n",
       "    <tr>\n",
       "      <th>19981</th>\n",
       "      <td>0</td>\n",
       "      <td>[feel, fall, sick]</td>\n",
       "    </tr>\n",
       "    <tr>\n",
       "      <th>19982</th>\n",
       "      <td>0</td>\n",
       "      <td>[caigriffith, poor, thing, they'r, rub, bio, o...</td>\n",
       "    </tr>\n",
       "    <tr>\n",
       "      <th>19983</th>\n",
       "      <td>0</td>\n",
       "      <td>[dream, last, nite, could, twitter, fone, one,...</td>\n",
       "    </tr>\n",
       "    <tr>\n",
       "      <th>19984</th>\n",
       "      <td>0</td>\n",
       "      <td>[bird, can't, tell, :am, anyhow, dark, i'd, ap...</td>\n",
       "    </tr>\n",
       "    <tr>\n",
       "      <th>19985</th>\n",
       "      <td>0</td>\n",
       "      <td>[sadli, 'babymaker', song, preview, day, like,...</td>\n",
       "    </tr>\n",
       "    <tr>\n",
       "      <th>19986</th>\n",
       "      <td>0</td>\n",
       "      <td>[still, bleak, iphon, (which, total, love]</td>\n",
       "    </tr>\n",
       "    <tr>\n",
       "      <th>19987</th>\n",
       "      <td>0</td>\n",
       "      <td>[want, upload, photo, twitter, let, say, may, ...</td>\n",
       "    </tr>\n",
       "    <tr>\n",
       "      <th>19988</th>\n",
       "      <td>0</td>\n",
       "      <td>[lynn, soon, get, prom, ring, yay, drama, rehe...</td>\n",
       "    </tr>\n",
       "    <tr>\n",
       "      <th>19989</th>\n",
       "      <td>0</td>\n",
       "      <td>[bindm, that', true, block, later, peopl, post...</td>\n",
       "    </tr>\n",
       "    <tr>\n",
       "      <th>19990</th>\n",
       "      <td>0</td>\n",
       "      <td>[typi, think, go, seek, thing, cute, food, san...</td>\n",
       "    </tr>\n",
       "    <tr>\n",
       "      <th>19991</th>\n",
       "      <td>0</td>\n",
       "      <td>[rogerthatv, look, hope]</td>\n",
       "    </tr>\n",
       "    <tr>\n",
       "      <th>19992</th>\n",
       "      <td>0</td>\n",
       "      <td>[hoodhollywood, know, i'm, sorryi, got, caught...</td>\n",
       "    </tr>\n",
       "    <tr>\n",
       "      <th>19993</th>\n",
       "      <td>0</td>\n",
       "      <td>[warm, today, extern, hard, drive, work]</td>\n",
       "    </tr>\n",
       "    <tr>\n",
       "      <th>19994</th>\n",
       "      <td>0</td>\n",
       "      <td>[stuck, citi, holland, tunnel, close, wanna, g...</td>\n",
       "    </tr>\n",
       "    <tr>\n",
       "      <th>19995</th>\n",
       "      <td>0</td>\n",
       "      <td>[much, time, weekend, work, trip, malm, fri-sa...</td>\n",
       "    </tr>\n",
       "    <tr>\n",
       "      <th>19996</th>\n",
       "      <td>0</td>\n",
       "      <td>[one, day, holiday]</td>\n",
       "    </tr>\n",
       "    <tr>\n",
       "      <th>19997</th>\n",
       "      <td>0</td>\n",
       "      <td>[feel, right, hate, damn, humprey]</td>\n",
       "    </tr>\n",
       "    <tr>\n",
       "      <th>19998</th>\n",
       "      <td>0</td>\n",
       "      <td>[geezi, hv, read, whole, book, person, type, e...</td>\n",
       "    </tr>\n",
       "    <tr>\n",
       "      <th>19999</th>\n",
       "      <td>0</td>\n",
       "      <td>[threw, sign, donni, bent, get, thinge, made, ...</td>\n",
       "    </tr>\n",
       "  </tbody>\n",
       "</table>\n",
       "</div>"
      ],
      "text/plain": [
       "       label                                              tweet\n",
       "19980      0                          [ugh, someon, call, woke]\n",
       "19981      0                                 [feel, fall, sick]\n",
       "19982      0  [caigriffith, poor, thing, they'r, rub, bio, o...\n",
       "19983      0  [dream, last, nite, could, twitter, fone, one,...\n",
       "19984      0  [bird, can't, tell, :am, anyhow, dark, i'd, ap...\n",
       "19985      0  [sadli, 'babymaker', song, preview, day, like,...\n",
       "19986      0         [still, bleak, iphon, (which, total, love]\n",
       "19987      0  [want, upload, photo, twitter, let, say, may, ...\n",
       "19988      0  [lynn, soon, get, prom, ring, yay, drama, rehe...\n",
       "19989      0  [bindm, that', true, block, later, peopl, post...\n",
       "19990      0  [typi, think, go, seek, thing, cute, food, san...\n",
       "19991      0                           [rogerthatv, look, hope]\n",
       "19992      0  [hoodhollywood, know, i'm, sorryi, got, caught...\n",
       "19993      0           [warm, today, extern, hard, drive, work]\n",
       "19994      0  [stuck, citi, holland, tunnel, close, wanna, g...\n",
       "19995      0  [much, time, weekend, work, trip, malm, fri-sa...\n",
       "19996      0                                [one, day, holiday]\n",
       "19997      0                 [feel, right, hate, damn, humprey]\n",
       "19998      0  [geezi, hv, read, whole, book, person, type, e...\n",
       "19999      0  [threw, sign, donni, bent, get, thinge, made, ..."
      ]
     },
     "execution_count": 22,
     "metadata": {},
     "output_type": "execute_result"
    }
   ],
   "source": [
    "dataset.tail(20)"
   ]
  },
  {
   "cell_type": "markdown",
   "metadata": {
    "id": "AmDpeP6S5lKO"
   },
   "source": [
    "## `TESTING AND TRAINING DATA`"
   ]
  },
  {
   "cell_type": "code",
   "execution_count": 23,
   "metadata": {
    "executionInfo": {
     "elapsed": 15,
     "status": "ok",
     "timestamp": 1650292983778,
     "user": {
      "displayName": "Ganesh Shinde",
      "userId": "04780742815385189197"
     },
     "user_tz": -330
    },
    "id": "TaTgcv2x52rM"
   },
   "outputs": [],
   "source": [
    "x=dataset['tweet']\n",
    "y=dataset['label']"
   ]
  },
  {
   "cell_type": "code",
   "execution_count": 24,
   "metadata": {
    "colab": {
     "base_uri": "https://localhost:8080/"
    },
    "executionInfo": {
     "elapsed": 15,
     "status": "ok",
     "timestamp": 1650292983778,
     "user": {
      "displayName": "Ganesh Shinde",
      "userId": "04780742815385189197"
     },
     "user_tz": -330
    },
    "id": "MdShXyc3-7Vg",
    "outputId": "6b143bf0-3fbf-4868-c434-8ba1059ffe76"
   },
   "outputs": [
    {
     "data": {
      "text/plain": [
       "800000               [love, healthuandpet, u, guy, r, best]\n",
       "800001    [im, meet, one, besti, tonight, cant, wait, gi...\n",
       "800002    [darealsunisakim, thank, twitter, add, sunisa,...\n",
       "800003    [sick, realli, cheap, hurt, much, eat, real, f...\n",
       "800004                     [lovesbrooklyn, effect, everyon]\n",
       "                                ...                        \n",
       "19995     [much, time, weekend, work, trip, malm, fri-sa...\n",
       "19996                                   [one, day, holiday]\n",
       "19997                    [feel, right, hate, damn, humprey]\n",
       "19998     [geezi, hv, read, whole, book, person, type, e...\n",
       "19999     [threw, sign, donni, bent, get, thinge, made, ...\n",
       "Name: tweet, Length: 40000, dtype: object"
      ]
     },
     "execution_count": 24,
     "metadata": {},
     "output_type": "execute_result"
    }
   ],
   "source": [
    "x"
   ]
  },
  {
   "cell_type": "code",
   "execution_count": 25,
   "metadata": {
    "executionInfo": {
     "elapsed": 13,
     "status": "ok",
     "timestamp": 1650292983778,
     "user": {
      "displayName": "Ganesh Shinde",
      "userId": "04780742815385189197"
     },
     "user_tz": -330
    },
    "id": "2n39PIhk5plo"
   },
   "outputs": [],
   "source": [
    "from sklearn.model_selection import train_test_split\n",
    "x_train,x_test,y_train,y_test=train_test_split(x,y,test_size=0.05,random_state=1)"
   ]
  },
  {
   "cell_type": "code",
   "execution_count": 26,
   "metadata": {
    "executionInfo": {
     "elapsed": 593,
     "status": "ok",
     "timestamp": 1650292984358,
     "user": {
      "displayName": "Ganesh Shinde",
      "userId": "04780742815385189197"
     },
     "user_tz": -330
    },
    "id": "XXpcL7sdC0-P"
   },
   "outputs": [],
   "source": [
    "vocabulary_size = 5000\n",
    "count_vector = CountVectorizer(max_features=vocabulary_size,\n",
    "                                preprocessor=lambda x: x,\n",
    "                               tokenizer=lambda x: x) \n",
    "x_train = count_vector.fit_transform(x_train).toarray()\n",
    "x_test = count_vector.transform(x_test).toarray()"
   ]
  },
  {
   "cell_type": "code",
   "execution_count": 27,
   "metadata": {
    "colab": {
     "base_uri": "https://localhost:8080/"
    },
    "executionInfo": {
     "elapsed": 404,
     "status": "ok",
     "timestamp": 1650292984761,
     "user": {
      "displayName": "Ganesh Shinde",
      "userId": "04780742815385189197"
     },
     "user_tz": -330
    },
    "id": "CRExAhD2GGPb",
    "outputId": "1b77fb89-b9af-43bd-e0d3-74a5f4535bfe"
   },
   "outputs": [
    {
     "name": "stdout",
     "output_type": "stream",
     "text": [
      "Before Tokenization & Padding \n",
      " ['switchfoot', 'awww', \"that'\", 'bummer', 'shoulda', 'got', 'david', 'carr', 'third', 'day', ';d']\n",
      "After Tokenization & Padding \n",
      " [  8  36  87 293 103   0   0   0   0   0   0   0   0   0   0   0   0   0\n",
      "   0   0   0   0   0   0   0   0   0   0   0   0   0   0   0   0   0   0\n",
      "   0   0   0   0   0   0   0   0   0   0   0   0   0   0]\n"
     ]
    }
   ],
   "source": [
    "max_words = 5000\n",
    "max_len=50\n",
    "\n",
    "def tokenize_pad_sequences(text):\n",
    "    tokenizer = Tokenizer(num_words=max_words, lower=True, split=' ')\n",
    "    tokenizer.fit_on_texts(text)\n",
    "    X = tokenizer.texts_to_sequences(text)\n",
    "    X = pad_sequences(X, padding='post', maxlen=max_len)\n",
    "    return X, tokenizer\n",
    "\n",
    "print('Before Tokenization & Padding \\n', dataset['tweet'][0])\n",
    "X, tokenizer = tokenize_pad_sequences(dataset['tweet'])\n",
    "print('After Tokenization & Padding \\n', X[0])"
   ]
  },
  {
   "cell_type": "code",
   "execution_count": 28,
   "metadata": {
    "executionInfo": {
     "elapsed": 560,
     "status": "ok",
     "timestamp": 1650292985320,
     "user": {
      "displayName": "Ganesh Shinde",
      "userId": "04780742815385189197"
     },
     "user_tz": -330
    },
    "id": "pCj9HI5_G0J-"
   },
   "outputs": [],
   "source": [
    "with open('tokenizer.pickle', 'wb') as handle:\n",
    "    pickle.dump(tokenizer, handle, protocol=pickle.HIGHEST_PROTOCOL)\n",
    "\n",
    "with open('tokenizer.pickle', 'rb') as handle:\n",
    "    tokenizer = pickle.load(handle)"
   ]
  },
  {
   "cell_type": "markdown",
   "metadata": {
    "id": "yBITL1vd6bDx"
   },
   "source": [
    "#### `FUNCTION FOR DETERMING ACCURACY`"
   ]
  },
  {
   "cell_type": "code",
   "execution_count": 29,
   "metadata": {},
   "outputs": [],
   "source": [
    "def model_Evaluate(model):\n",
    "# Predict values for Test dataset\n",
    "    y_pred = model.predict(x_test)\n",
    "    # Print the evaluation metrics for the dataset.\n",
    "    print(classification_report(y_test, y_pred))\n",
    "    # Compute and plot the Confusion matrix\n",
    "    cf_matrix = confusion_matrix(y_test, y_pred)\n",
    "    categories = ['Negative','Positive']\n",
    "    group_names = ['True Neg','False Pos', 'False Neg','True Pos']\n",
    "    group_percentages = ['{0:.2%}'.format(value) for value in cf_matrix.flatten() / np.sum(cf_matrix)]\n",
    "    labels = [f'{v1}n{v2}' for v1, v2 in zip(group_names,group_percentages)]\n",
    "    labels = np.asarray(labels).reshape(2,2)\n",
    "    sns.heatmap(cf_matrix, annot = labels, cmap = 'Blues',fmt = '',\n",
    "    xticklabels = categories, yticklabels = categories)\n",
    "    plt.xlabel(\"Predicted values\", fontdict = {'size':14}, labelpad = 10)\n",
    "    plt.ylabel(\"Actual values\" , fontdict = {'size':14}, labelpad = 10)\n",
    "    plt.title (\"Confusion Matrix\", fontdict = {'size':18}, pad = 20)"
   ]
  },
  {
   "cell_type": "markdown",
   "metadata": {
    "id": "35GqlvMNFBI_"
   },
   "source": [
    "## `SVM`"
   ]
  },
  {
   "cell_type": "code",
   "execution_count": 30,
   "metadata": {
    "colab": {
     "base_uri": "https://localhost:8080/",
     "height": 363
    },
    "executionInfo": {
     "elapsed": 52360,
     "status": "error",
     "timestamp": 1650293037679,
     "user": {
      "displayName": "Ganesh Shinde",
      "userId": "04780742815385189197"
     },
     "user_tz": -330
    },
    "id": "1s53mERwFGiH",
    "outputId": "1add919c-c4e3-4444-beb9-07a8e9745de7"
   },
   "outputs": [
    {
     "name": "stdout",
     "output_type": "stream",
     "text": [
      "              precision    recall  f1-score   support\n",
      "\n",
      "           0       0.73      0.73      0.73       978\n",
      "           4       0.74      0.74      0.74      1022\n",
      "\n",
      "    accuracy                           0.73      2000\n",
      "   macro avg       0.73      0.73      0.73      2000\n",
      "weighted avg       0.73      0.73      0.73      2000\n",
      "\n"
     ]
    },
    {
     "data": {
      "image/png": "[encoded data removed]",
      "text/plain": [
       "<Figure size 432x288 with 2 Axes>"
      ]
     },
     "metadata": {
      "needs_background": "light"
     },
     "output_type": "display_data"
    }
   ],
   "source": [
    "from sklearn.svm import LinearSVC\n",
    "svcmodel=LinearSVC()\n",
    "svcmodel.fit(x_train,y_train)\n",
    "model_Evaluate(svcmodel)\n",
    "y_pred=svcmodel.predict(x_test)"
   ]
  },
  {
   "cell_type": "code",
   "execution_count": 31,
   "metadata": {},
   "outputs": [],
   "source": [
    "filename='final_svm_model.sav'\n",
    "pickle.dump(svcmodel,open(filename,'wb'))\n",
    "\n",
    "loaded_model=pickle.load(open(filename,'rb'))\n",
    "result=loaded_model.score(x_test,y_test)"
   ]
  },
  {
   "cell_type": "code",
   "execution_count": 32,
   "metadata": {},
   "outputs": [
    {
     "data": {
      "text/plain": [
       "0.735"
      ]
     },
     "execution_count": 32,
     "metadata": {},
     "output_type": "execute_result"
    }
   ],
   "source": [
    "result"
   ]
  },
  {
   "cell_type": "code",
   "execution_count": null,
   "metadata": {},
   "outputs": [],
   "source": []
  }
 ],
 "metadata": {
  "interpreter": {
   "hash": "8da01e5a71448ea74f54d88afa8911010d1d12e23bc7e103d40d5def4a09152c"
  },
  "kernelspec": {
   "display_name": "Python 3.9.12 64-bit",
   "language": "python",
   "name": "python3"
  },
  "language_info": {
   "codemirror_mode": {
    "name": "ipython",
    "version": 3
   },
   "file_extension": ".py",
   "mimetype": "text/x-python",
   "name": "python",
   "nbconvert_exporter": "python",
   "pygments_lexer": "ipython3",
   "version": "3.9.12"
  },
  "orig_nbformat": 4
 },
 "nbformat": 4,
 "nbformat_minor": 2
}
